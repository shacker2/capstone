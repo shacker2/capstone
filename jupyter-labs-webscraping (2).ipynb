{
 "cells": [
  {
   "cell_type": "markdown",
   "metadata": {},
   "source": [
    "<p style=\"text-align:center\">\n",
    "    <a href=\"https://skills.network\" target=\"_blank\">\n",
    "    <img src=\"https://cf-courses-data.s3.us.cloud-object-storage.appdomain.cloud/assets/logos/SN_web_lightmode.png\" width=\"200\" alt=\"Skills Network Logo\">\n",
    "    </a>\n",
    "</p>\n"
   ]
  },
  {
   "cell_type": "markdown",
   "metadata": {},
   "source": [
    "# **Space X  Falcon 9 First Stage Landing Prediction**\n"
   ]
  },
  {
   "cell_type": "markdown",
   "metadata": {},
   "source": [
    "## Web scraping Falcon 9 and Falcon Heavy Launches Records from Wikipedia\n"
   ]
  },
  {
   "cell_type": "markdown",
   "metadata": {},
   "source": [
    "Estimated time needed: **40** minutes\n"
   ]
  },
  {
   "cell_type": "markdown",
   "metadata": {},
   "source": [
    "In this lab, you will be performing web scraping to collect Falcon 9 historical launch records from a Wikipedia page titled `List of Falcon 9 and Falcon Heavy launches`\n",
    "\n",
    "https://en.wikipedia.org/wiki/List_of_Falcon_9_and_Falcon_Heavy_launches\n"
   ]
  },
  {
   "cell_type": "markdown",
   "metadata": {},
   "source": [
    "![](https://cf-courses-data.s3.us.cloud-object-storage.appdomain.cloud/IBM-DS0321EN-SkillsNetwork/labs/module_1_L2/images/Falcon9_rocket_family.svg)\n"
   ]
  },
  {
   "cell_type": "markdown",
   "metadata": {},
   "source": [
    "Falcon 9 first stage will land successfully\n"
   ]
  },
  {
   "cell_type": "markdown",
   "metadata": {},
   "source": [
    "![](https://cf-courses-data.s3.us.cloud-object-storage.appdomain.cloud/IBMDeveloperSkillsNetwork-DS0701EN-SkillsNetwork/api/Images/landing_1.gif)\n"
   ]
  },
  {
   "cell_type": "markdown",
   "metadata": {},
   "source": [
    "Several examples of an unsuccessful landing are shown here:\n"
   ]
  },
  {
   "cell_type": "markdown",
   "metadata": {},
   "source": [
    "![](https://cf-courses-data.s3.us.cloud-object-storage.appdomain.cloud/IBMDeveloperSkillsNetwork-DS0701EN-SkillsNetwork/api/Images/crash.gif)\n"
   ]
  },
  {
   "cell_type": "markdown",
   "metadata": {},
   "source": [
    "More specifically, the launch records are stored in a HTML table shown below:\n"
   ]
  },
  {
   "cell_type": "markdown",
   "metadata": {},
   "source": [
    "![](https://cf-courses-data.s3.us.cloud-object-storage.appdomain.cloud/IBM-DS0321EN-SkillsNetwork/labs/module_1_L2/images/falcon9-launches-wiki.png)\n"
   ]
  },
  {
   "cell_type": "markdown",
   "metadata": {},
   "source": [
    "  ## Objectives\n",
    "Web scrap Falcon 9 launch records with `BeautifulSoup`: \n",
    "- Extract a Falcon 9 launch records HTML table from Wikipedia\n",
    "- Parse the table and convert it into a Pandas data frame\n"
   ]
  },
  {
   "cell_type": "markdown",
   "metadata": {},
   "source": [
    "First let's import required packages for this lab\n"
   ]
  },
  {
   "cell_type": "code",
   "execution_count": 99,
   "metadata": {
    "tags": []
   },
   "outputs": [
    {
     "name": "stdout",
     "output_type": "stream",
     "text": [
      "Requirement already satisfied: beautifulsoup4 in /home/jupyterlab/conda/envs/python/lib/python3.7/site-packages (4.11.1)\n",
      "Requirement already satisfied: soupsieve>1.2 in /home/jupyterlab/conda/envs/python/lib/python3.7/site-packages (from beautifulsoup4) (2.3.2.post1)\n",
      "Requirement already satisfied: requests in /home/jupyterlab/conda/envs/python/lib/python3.7/site-packages (2.29.0)\n",
      "Requirement already satisfied: charset-normalizer<4,>=2 in /home/jupyterlab/conda/envs/python/lib/python3.7/site-packages (from requests) (3.1.0)\n",
      "Requirement already satisfied: idna<4,>=2.5 in /home/jupyterlab/conda/envs/python/lib/python3.7/site-packages (from requests) (3.4)\n",
      "Requirement already satisfied: urllib3<1.27,>=1.21.1 in /home/jupyterlab/conda/envs/python/lib/python3.7/site-packages (from requests) (1.26.15)\n",
      "Requirement already satisfied: certifi>=2017.4.17 in /home/jupyterlab/conda/envs/python/lib/python3.7/site-packages (from requests) (2023.5.7)\n"
     ]
    }
   ],
   "source": [
    "!pip3 install beautifulsoup4\n",
    "!pip3 install requests"
   ]
  },
  {
   "cell_type": "code",
   "execution_count": 100,
   "metadata": {
    "tags": []
   },
   "outputs": [],
   "source": [
    "import sys\n",
    "\n",
    "import requests\n",
    "from bs4 import BeautifulSoup\n",
    "import re\n",
    "import unicodedata\n",
    "import pandas as pd"
   ]
  },
  {
   "cell_type": "markdown",
   "metadata": {},
   "source": [
    "and we will provide some helper functions for you to process web scraped HTML table\n"
   ]
  },
  {
   "cell_type": "code",
   "execution_count": 148,
   "metadata": {
    "tags": []
   },
   "outputs": [],
   "source": [
    "def date_time(table_cells):\n",
    "    \"\"\"\n",
    "    This function returns the data and time from the HTML  table cell\n",
    "    Input: the  element of a table data cell extracts extra row\n",
    "    \"\"\"\n",
    "    return [data_time.strip() for data_time in list(table_cells.strings)][0:2]\n",
    "\n",
    "def booster_version(table_cells):\n",
    "    \"\"\"\n",
    "    This function returns the booster version from the HTML  table cell \n",
    "    Input: the  element of a table data cell extracts extra row\n",
    "    \"\"\"\n",
    "    out=''.join([booster_version for i,booster_version in enumerate( table_cells.strings) if i%2==0][0:-1])\n",
    "    return out\n",
    "\n",
    "def landing_status(table_cells):\n",
    "    \"\"\"\n",
    "    This function returns the landing status from the HTML table cell \n",
    "    Input: the  element of a table data cell extracts extra row\n",
    "    \"\"\"\n",
    "    out=[i for i in table_cells.strings][0]\n",
    "    return out\n",
    "\n",
    "\n",
    "def get_mass(table_cells):\n",
    "    mass=unicodedata.normalize(\"NFKD\", table_cells.text).strip()\n",
    "    if mass:\n",
    "        mass.find(\"kg\")\n",
    "        new_mass=mass[0:mass.find(\"kg\")+2]\n",
    "    else:\n",
    "        new_mass=0\n",
    "    return new_mass\n",
    "\n",
    "\n",
    "def extract_column_from_header(row):\n",
    "    \"\"\"\n",
    "    This function returns the landing status from the HTML table cell \n",
    "    Input: the  element of a table data cell extracts extra row\n",
    "    \"\"\"\n",
    "    print(row)\n",
    "    if (row.br):\n",
    "        row.br.extract()\n",
    "    if row.a:\n",
    "        row.a.extract()\n",
    "    if row.sup:\n",
    "        row.sup.extract()\n",
    "\n",
    "    colunm_name = ' '.join(row.contents)\n",
    "    # Filter the digit and empty names\n",
    "    if not(colunm_name.strip().isdigit()):\n",
    "        colunm_name = colunm_name.strip()\n",
    "        return colunm_name\n"
   ]
  },
  {
   "cell_type": "markdown",
   "metadata": {},
   "source": [
    "To keep the lab tasks consistent, you will be asked to scrape the data from a snapshot of the  `List of Falcon 9 and Falcon Heavy launches` Wikipage updated on\n",
    "`9th June 2021`\n"
   ]
  },
  {
   "cell_type": "code",
   "execution_count": 149,
   "metadata": {
    "tags": []
   },
   "outputs": [],
   "source": [
    "static_url = \"https://en.wikipedia.org/w/index.php?title=List_of_Falcon_9_and_Falcon_Heavy_launches&oldid=1027686922\""
   ]
  },
  {
   "cell_type": "markdown",
   "metadata": {},
   "source": [
    "Next, request the HTML page from the above URL and get a `response` object\n"
   ]
  },
  {
   "cell_type": "markdown",
   "metadata": {},
   "source": [
    "### TASK 1: Request the Falcon9 Launch Wiki page from its URL\n"
   ]
  },
  {
   "cell_type": "markdown",
   "metadata": {},
   "source": [
    "First, let's perform an HTTP GET method to request the Falcon9 Launch HTML page, as an HTTP response.\n"
   ]
  },
  {
   "cell_type": "code",
   "execution_count": 150,
   "metadata": {
    "tags": []
   },
   "outputs": [],
   "source": [
    "# use requests.get() method with the provided static_url\n",
    "# assign the response to a object\n",
    "scrap = requests.get(static_url)\n"
   ]
  },
  {
   "cell_type": "markdown",
   "metadata": {},
   "source": [
    "Create a `BeautifulSoup` object from the HTML `response`\n"
   ]
  },
  {
   "cell_type": "code",
   "execution_count": 151,
   "metadata": {
    "tags": []
   },
   "outputs": [],
   "source": [
    "# Use BeautifulSoup() to create a BeautifulSoup object from a response text content\n",
    "soup = BeautifulSoup(scrap.content)"
   ]
  },
  {
   "cell_type": "markdown",
   "metadata": {},
   "source": [
    "Print the page title to verify if the `BeautifulSoup` object was created properly \n"
   ]
  },
  {
   "cell_type": "code",
   "execution_count": 152,
   "metadata": {
    "tags": []
   },
   "outputs": [],
   "source": [
    "# Use soup.title attribute"
   ]
  },
  {
   "cell_type": "code",
   "execution_count": 153,
   "metadata": {
    "tags": []
   },
   "outputs": [
    {
     "data": {
      "text/plain": [
       "<title>List of Falcon 9 and Falcon Heavy launches - Wikipedia</title>"
      ]
     },
     "execution_count": 153,
     "metadata": {},
     "output_type": "execute_result"
    }
   ],
   "source": [
    "soup.title"
   ]
  },
  {
   "cell_type": "markdown",
   "metadata": {},
   "source": [
    "### TASK 2: Extract all column/variable names from the HTML table header\n"
   ]
  },
  {
   "cell_type": "markdown",
   "metadata": {},
   "source": [
    "Next, we want to collect all relevant column names from the HTML table header\n"
   ]
  },
  {
   "cell_type": "markdown",
   "metadata": {},
   "source": [
    "Let's try to find all tables on the wiki page first. If you need to refresh your memory about `BeautifulSoup`, please check the external reference link towards the end of this lab\n"
   ]
  },
  {
   "cell_type": "code",
   "execution_count": 154,
   "metadata": {
    "tags": []
   },
   "outputs": [],
   "source": [
    "# Use the find_all function in the BeautifulSoup object, with element type `table`\n",
    "# Assign the result to a list called `html_tables`\n",
    "html_tables = results = soup.find_all('table')"
   ]
  },
  {
   "cell_type": "markdown",
   "metadata": {},
   "source": [
    "Starting from the third table is our target table contains the actual launch records.\n"
   ]
  },
  {
   "cell_type": "code",
   "execution_count": 155,
   "metadata": {
    "tags": []
   },
   "outputs": [],
   "source": [
    "# Let's print the third table and check its content\n",
    "first_launch_table = html_tables[2]"
   ]
  },
  {
   "cell_type": "markdown",
   "metadata": {},
   "source": [
    "You should able to see the columns names embedded in the table header elements `<th>` as follows:\n"
   ]
  },
  {
   "cell_type": "markdown",
   "metadata": {},
   "source": [
    "```\n",
    "<tr>\n",
    "<th scope=\"col\">Flight No.\n",
    "</th>\n",
    "<th scope=\"col\">Date and<br/>time (<a href=\"/wiki/Coordinated_Universal_Time\" title=\"Coordinated Universal Time\">UTC</a>)\n",
    "</th>\n",
    "<th scope=\"col\"><a href=\"/wiki/List_of_Falcon_9_first-stage_boosters\" title=\"List of Falcon 9 first-stage boosters\">Version,<br/>Booster</a> <sup class=\"reference\" id=\"cite_ref-booster_11-0\"><a href=\"#cite_note-booster-11\">[b]</a></sup>\n",
    "</th>\n",
    "<th scope=\"col\">Launch site\n",
    "</th>\n",
    "<th scope=\"col\">Payload<sup class=\"reference\" id=\"cite_ref-Dragon_12-0\"><a href=\"#cite_note-Dragon-12\">[c]</a></sup>\n",
    "</th>\n",
    "<th scope=\"col\">Payload mass\n",
    "</th>\n",
    "<th scope=\"col\">Orbit\n",
    "</th>\n",
    "<th scope=\"col\">Customer\n",
    "</th>\n",
    "<th scope=\"col\">Launch<br/>outcome\n",
    "</th>\n",
    "<th scope=\"col\"><a href=\"/wiki/Falcon_9_first-stage_landing_tests\" title=\"Falcon 9 first-stage landing tests\">Booster<br/>landing</a>\n",
    "</th></tr>\n",
    "```\n"
   ]
  },
  {
   "cell_type": "markdown",
   "metadata": {},
   "source": [
    "Next, we just need to iterate through the `<th>` elements and apply the provided `extract_column_from_header()` to extract column name one by one\n"
   ]
  },
  {
   "cell_type": "code",
   "execution_count": 156,
   "metadata": {
    "tags": []
   },
   "outputs": [
    {
     "name": "stdout",
     "output_type": "stream",
     "text": [
      "<th scope=\"col\">Flight No.\n",
      "</th>\n",
      "<th scope=\"col\">Date and<br/>time (<a href=\"/wiki/Coordinated_Universal_Time\" title=\"Coordinated Universal Time\">UTC</a>)\n",
      "</th>\n",
      "<th scope=\"col\"><a href=\"/wiki/List_of_Falcon_9_first-stage_boosters\" title=\"List of Falcon 9 first-stage boosters\">Version,<br/>Booster</a> <sup class=\"reference\" id=\"cite_ref-booster_11-0\"><a href=\"#cite_note-booster-11\"><span class=\"cite-bracket\">[</span>b<span class=\"cite-bracket\">]</span></a></sup>\n",
      "</th>\n",
      "<th scope=\"col\">Launch site\n",
      "</th>\n",
      "<th scope=\"col\">Payload<sup class=\"reference\" id=\"cite_ref-Dragon_12-0\"><a href=\"#cite_note-Dragon-12\"><span class=\"cite-bracket\">[</span>c<span class=\"cite-bracket\">]</span></a></sup>\n",
      "</th>\n",
      "<th scope=\"col\">Payload mass\n",
      "</th>\n",
      "<th scope=\"col\">Orbit\n",
      "</th>\n",
      "<th scope=\"col\">Customer\n",
      "</th>\n",
      "<th scope=\"col\">Launch<br/>outcome\n",
      "</th>\n",
      "<th scope=\"col\"><a href=\"/wiki/Falcon_9_first-stage_landing_tests\" title=\"Falcon 9 first-stage landing tests\">Booster<br/>landing</a>\n",
      "</th>\n",
      "<th rowspan=\"2\" scope=\"row\" style=\"text-align:center;\">1\n",
      "</th>\n",
      "<th rowspan=\"2\" scope=\"row\" style=\"text-align:center;\">2\n",
      "</th>\n",
      "<th rowspan=\"2\" scope=\"row\" style=\"text-align:center;\">3\n",
      "</th>\n",
      "<th rowspan=\"3\" scope=\"row\" style=\"text-align:center;\">4\n",
      "</th>\n",
      "<th rowspan=\"2\" scope=\"row\" style=\"text-align:center;\">5\n",
      "</th>\n",
      "<th rowspan=\"2\" scope=\"row\" style=\"text-align:center;\">6\n",
      "</th>\n",
      "<th rowspan=\"2\" scope=\"row\" style=\"text-align:center;\">7\n",
      "</th>\n",
      "<th scope=\"col\">Flight No.\n",
      "</th>\n",
      "<th scope=\"col\">Date and<br/>time (<a href=\"/wiki/Coordinated_Universal_Time\" title=\"Coordinated Universal Time\">UTC</a>)\n",
      "</th>\n",
      "<th scope=\"col\"><a href=\"/wiki/List_of_Falcon_9_first-stage_boosters\" title=\"List of Falcon 9 first-stage boosters\">Version,<br/>Booster</a><sup class=\"reference\" id=\"cite_ref-booster_11-1\"><a href=\"#cite_note-booster-11\"><span class=\"cite-bracket\">[</span>b<span class=\"cite-bracket\">]</span></a></sup>\n",
      "</th>\n",
      "<th scope=\"col\">Launch site\n",
      "</th>\n",
      "<th scope=\"col\">Payload<sup class=\"reference\" id=\"cite_ref-Dragon_12-1\"><a href=\"#cite_note-Dragon-12\"><span class=\"cite-bracket\">[</span>c<span class=\"cite-bracket\">]</span></a></sup>\n",
      "</th>\n",
      "<th scope=\"col\">Payload mass\n",
      "</th>\n",
      "<th scope=\"col\">Orbit\n",
      "</th>\n",
      "<th scope=\"col\">Customer\n",
      "</th>\n",
      "<th scope=\"col\">Launch<br/>outcome\n",
      "</th>\n",
      "<th scope=\"col\"><a href=\"/wiki/Falcon_9_first-stage_landing_tests\" title=\"Falcon 9 first-stage landing tests\">Booster<br/>landing</a>\n",
      "</th>\n",
      "<th rowspan=\"2\" scope=\"row\" style=\"text-align:center;\">8\n",
      "</th>\n",
      "<th rowspan=\"2\" scope=\"row\" style=\"text-align:center;\">9\n",
      "</th>\n",
      "<th rowspan=\"2\" scope=\"row\" style=\"text-align:center;\">10\n",
      "</th>\n",
      "<th rowspan=\"2\" scope=\"row\" style=\"text-align:center;\">11\n",
      "</th>\n",
      "<th rowspan=\"2\" scope=\"row\" style=\"text-align:center;\">12\n",
      "</th>\n",
      "<th rowspan=\"2\" scope=\"row\" style=\"text-align:center;\">13\n",
      "</th>\n",
      "<th scope=\"col\">Flight No.\n",
      "</th>\n",
      "<th scope=\"col\">Date and<br/>time (<a href=\"/wiki/Coordinated_Universal_Time\" title=\"Coordinated Universal Time\">UTC</a>)\n",
      "</th>\n",
      "<th scope=\"col\"><a href=\"/wiki/List_of_Falcon_9_first-stage_boosters\" title=\"List of Falcon 9 first-stage boosters\">Version,<br/>Booster</a><sup class=\"reference\" id=\"cite_ref-booster_11-2\"><a href=\"#cite_note-booster-11\"><span class=\"cite-bracket\">[</span>b<span class=\"cite-bracket\">]</span></a></sup>\n",
      "</th>\n",
      "<th scope=\"col\">Launch site\n",
      "</th>\n",
      "<th scope=\"col\">Payload<sup class=\"reference\" id=\"cite_ref-Dragon_12-2\"><a href=\"#cite_note-Dragon-12\"><span class=\"cite-bracket\">[</span>c<span class=\"cite-bracket\">]</span></a></sup>\n",
      "</th>\n",
      "<th scope=\"col\">Payload mass\n",
      "</th>\n",
      "<th scope=\"col\">Orbit\n",
      "</th>\n",
      "<th scope=\"col\">Customer\n",
      "</th>\n",
      "<th scope=\"col\">Launch<br/>outcome\n",
      "</th>\n",
      "<th scope=\"col\"><a href=\"/wiki/Falcon_9_first-stage_landing_tests\" title=\"Falcon 9 first-stage landing tests\">Booster<br/>landing</a>\n",
      "</th>\n",
      "<th rowspan=\"2\" scope=\"row\" style=\"text-align:center;\">14\n",
      "</th>\n",
      "<th rowspan=\"2\" scope=\"row\" style=\"text-align:center;\">15\n",
      "</th>\n",
      "<th rowspan=\"2\" scope=\"row\" style=\"text-align:center;\">16\n",
      "</th>\n",
      "<th rowspan=\"2\" scope=\"row\" style=\"text-align:center;\">17\n",
      "</th>\n",
      "<th rowspan=\"2\" scope=\"row\" style=\"text-align:center;\">18\n",
      "</th>\n",
      "<th rowspan=\"2\" scope=\"row\" style=\"text-align:center;\">19\n",
      "</th>\n",
      "<th rowspan=\"2\" scope=\"row\" style=\"text-align:center;\">20\n",
      "</th>\n",
      "<th scope=\"col\">Flight No.\n",
      "</th>\n",
      "<th scope=\"col\">Date and<br/>time (<a href=\"/wiki/Coordinated_Universal_Time\" title=\"Coordinated Universal Time\">UTC</a>)\n",
      "</th>\n",
      "<th scope=\"col\"><a href=\"/wiki/List_of_Falcon_9_first-stage_boosters\" title=\"List of Falcon 9 first-stage boosters\">Version,<br/>Booster</a><sup class=\"reference\" id=\"cite_ref-booster_11-3\"><a href=\"#cite_note-booster-11\"><span class=\"cite-bracket\">[</span>b<span class=\"cite-bracket\">]</span></a></sup>\n",
      "</th>\n",
      "<th scope=\"col\">Launch site\n",
      "</th>\n",
      "<th scope=\"col\">Payload<sup class=\"reference\" id=\"cite_ref-Dragon_12-3\"><a href=\"#cite_note-Dragon-12\"><span class=\"cite-bracket\">[</span>c<span class=\"cite-bracket\">]</span></a></sup>\n",
      "</th>\n",
      "<th scope=\"col\">Payload mass\n",
      "</th>\n",
      "<th scope=\"col\">Orbit\n",
      "</th>\n",
      "<th scope=\"col\">Customer\n",
      "</th>\n",
      "<th scope=\"col\">Launch<br/>outcome\n",
      "</th>\n",
      "<th scope=\"col\"><a href=\"/wiki/Falcon_9_first-stage_landing_tests\" title=\"Falcon 9 first-stage landing tests\">Booster<br/>landing</a>\n",
      "</th>\n",
      "<th rowspan=\"2\" scope=\"row\" style=\"text-align:center;\">21\n",
      "</th>\n",
      "<th rowspan=\"2\" scope=\"row\" style=\"text-align:center;\">22\n",
      "</th>\n",
      "<th rowspan=\"2\" scope=\"row\" style=\"text-align:center;\">23\n",
      "</th>\n",
      "<th rowspan=\"2\" scope=\"row\" style=\"text-align:center;\">24\n",
      "</th>\n",
      "<th rowspan=\"2\" scope=\"row\" style=\"text-align:center;\">25\n",
      "</th>\n",
      "<th rowspan=\"2\" scope=\"row\" style=\"text-align:center;\">26\n",
      "</th>\n",
      "<th rowspan=\"2\" scope=\"row\" style=\"text-align:center;\">27\n",
      "</th>\n",
      "<th rowspan=\"2\" scope=\"row\" style=\"text-align:center;\">28\n",
      "</th>\n",
      "<th rowspan=\"2\" scope=\"row\" style=\"text-align:center;\">N/A <sup class=\"reference\" id=\"cite_ref-152\"><a href=\"#cite_note-152\"><span class=\"cite-bracket\">[</span>e<span class=\"cite-bracket\">]</span></a></sup>\n",
      "</th>\n",
      "<th scope=\"col\">Flight No.\n",
      "</th>\n",
      "<th scope=\"col\">Date and<br/>time (<a href=\"/wiki/Coordinated_Universal_Time\" title=\"Coordinated Universal Time\">UTC</a>)\n",
      "</th>\n",
      "<th scope=\"col\"><a href=\"/wiki/List_of_Falcon_9_first-stage_boosters\" title=\"List of Falcon 9 first-stage boosters\">Version,<br/>Booster</a><sup class=\"reference\" id=\"cite_ref-booster_11-4\"><a href=\"#cite_note-booster-11\"><span class=\"cite-bracket\">[</span>b<span class=\"cite-bracket\">]</span></a></sup>\n",
      "</th>\n",
      "<th scope=\"col\">Launch site\n",
      "</th>\n",
      "<th scope=\"col\">Payload<sup class=\"reference\" id=\"cite_ref-Dragon_12-4\"><a href=\"#cite_note-Dragon-12\"><span class=\"cite-bracket\">[</span>c<span class=\"cite-bracket\">]</span></a></sup>\n",
      "</th>\n",
      "<th scope=\"col\">Payload mass\n",
      "</th>\n",
      "<th scope=\"col\">Orbit\n",
      "</th>\n",
      "<th scope=\"col\">Customer\n",
      "</th>\n",
      "<th scope=\"col\">Launch<br/>outcome\n",
      "</th>\n",
      "<th scope=\"col\"><a href=\"/wiki/Falcon_9_first-stage_landing_tests\" title=\"Falcon 9 first-stage landing tests\">Booster<br/>landing</a>\n",
      "</th>\n",
      "<th rowspan=\"2\" scope=\"row\" style=\"text-align:center;\">29\n",
      "</th>\n",
      "<th rowspan=\"2\" scope=\"row\" style=\"text-align:center;\">30\n",
      "</th>\n",
      "<th rowspan=\"2\" scope=\"row\" style=\"text-align:center;\">31\n",
      "</th>\n",
      "<th rowspan=\"2\" scope=\"row\" style=\"text-align:center;\">32\n",
      "</th>\n",
      "<th rowspan=\"2\" scope=\"row\" style=\"text-align:center;\">33\n",
      "</th>\n",
      "<th rowspan=\"2\" scope=\"row\" style=\"text-align:center;\">34\n",
      "</th>\n",
      "<th rowspan=\"2\" scope=\"row\" style=\"text-align:center;\">35\n",
      "</th>\n",
      "<th rowspan=\"2\" scope=\"row\" style=\"text-align:center;\">36\n",
      "</th>\n",
      "<th rowspan=\"2\" scope=\"row\" style=\"text-align:center;\">37\n",
      "</th>\n",
      "<th rowspan=\"2\" scope=\"row\" style=\"text-align:center;\">38\n",
      "</th>\n",
      "<th rowspan=\"2\" scope=\"row\" style=\"text-align:center;\">39\n",
      "</th>\n",
      "<th rowspan=\"2\" scope=\"row\" style=\"text-align:center;\">40\n",
      "</th>\n",
      "<th rowspan=\"2\" scope=\"row\" style=\"text-align:center;\">41\n",
      "</th>\n",
      "<th rowspan=\"2\" scope=\"row\" style=\"text-align:center;\">42\n",
      "</th>\n",
      "<th rowspan=\"2\" scope=\"row\" style=\"text-align:center;\">43\n",
      "</th>\n",
      "<th rowspan=\"2\" scope=\"row\" style=\"text-align:center;\">44\n",
      "</th>\n",
      "<th rowspan=\"2\" scope=\"row\" style=\"text-align:center;\">45\n",
      "</th>\n",
      "<th rowspan=\"2\" scope=\"row\" style=\"text-align:center;\">46\n",
      "</th>\n",
      "<th scope=\"col\">Flight No.\n",
      "</th>\n",
      "<th scope=\"col\">Date and<br/>time (<a href=\"/wiki/Coordinated_Universal_Time\" title=\"Coordinated Universal Time\">UTC</a>)\n",
      "</th>\n",
      "<th scope=\"col\"><a href=\"/wiki/List_of_Falcon_9_first-stage_boosters\" title=\"List of Falcon 9 first-stage boosters\">Version,<br/>Booster</a><sup class=\"reference\" id=\"cite_ref-booster_11-5\"><a href=\"#cite_note-booster-11\"><span class=\"cite-bracket\">[</span>b<span class=\"cite-bracket\">]</span></a></sup>\n",
      "</th>\n",
      "<th scope=\"col\">Launch site\n",
      "</th>\n",
      "<th scope=\"col\">Payload<sup class=\"reference\" id=\"cite_ref-Dragon_12-5\"><a href=\"#cite_note-Dragon-12\"><span class=\"cite-bracket\">[</span>c<span class=\"cite-bracket\">]</span></a></sup>\n",
      "</th>\n",
      "<th scope=\"col\">Payload mass\n",
      "</th>\n",
      "<th scope=\"col\">Orbit\n",
      "</th>\n",
      "<th scope=\"col\">Customer\n",
      "</th>\n",
      "<th scope=\"col\">Launch<br/>outcome\n",
      "</th>\n",
      "<th scope=\"col\"><a href=\"/wiki/Falcon_9_first-stage_landing_tests\" title=\"Falcon 9 first-stage landing tests\">Booster<br/>landing</a>\n",
      "</th>\n",
      "<th rowspan=\"2\" scope=\"row\" style=\"text-align:center;\">47\n",
      "</th>\n",
      "<th rowspan=\"2\" scope=\"row\" style=\"text-align:center;\">48\n",
      "</th>\n",
      "<th rowspan=\"4\" scope=\"row\" style=\"text-align:center;\"><a href=\"/wiki/Falcon_Heavy_test_flight\" title=\"Falcon Heavy test flight\">FH 1</a>\n",
      "</th>\n",
      "<th rowspan=\"2\" scope=\"row\" style=\"text-align:center;\">49\n",
      "</th>\n",
      "<th rowspan=\"2\" scope=\"row\" style=\"text-align:center;\">50\n",
      "</th>\n",
      "<th rowspan=\"2\" scope=\"row\" style=\"text-align:center;\">51\n",
      "</th>\n",
      "<th rowspan=\"2\" scope=\"row\" style=\"text-align:center;\">52\n",
      "</th>\n",
      "<th rowspan=\"2\" scope=\"row\" style=\"text-align:center;\">53\n",
      "</th>\n",
      "<th rowspan=\"2\" scope=\"row\" style=\"text-align:center;\">54\n",
      "</th>\n",
      "<th rowspan=\"2\" scope=\"row\" style=\"text-align:center;\">55\n",
      "</th>\n",
      "<th rowspan=\"2\" scope=\"row\" style=\"text-align:center;\">56\n",
      "</th>\n",
      "<th rowspan=\"2\" scope=\"row\" style=\"text-align:center;\">57\n",
      "</th>\n",
      "<th rowspan=\"2\" scope=\"row\" style=\"text-align:center;\">58\n",
      "</th>\n",
      "<th rowspan=\"2\" scope=\"row\" style=\"text-align:center;\">59\n",
      "</th>\n",
      "<th rowspan=\"2\" scope=\"row\" style=\"text-align:center;\">60\n",
      "</th>\n",
      "<th rowspan=\"2\" scope=\"row\" style=\"text-align:center;\">61\n",
      "</th>\n",
      "<th rowspan=\"2\" scope=\"row\" style=\"text-align:center;\">62\n",
      "</th>\n",
      "<th rowspan=\"2\" scope=\"row\" style=\"text-align:center;\">63\n",
      "</th>\n",
      "<th rowspan=\"2\" scope=\"row\" style=\"text-align:center;\">64\n",
      "</th>\n",
      "<th rowspan=\"2\" scope=\"row\" style=\"text-align:center;\">65\n",
      "</th>\n",
      "<th rowspan=\"2\" scope=\"row\" style=\"text-align:center;\">66\n",
      "</th>\n",
      "<th scope=\"col\">Flight No.\n",
      "</th>\n",
      "<th scope=\"col\">Date and<br/>time (<a href=\"/wiki/Coordinated_Universal_Time\" title=\"Coordinated Universal Time\">UTC</a>)\n",
      "</th>\n",
      "<th scope=\"col\"><a href=\"/wiki/List_of_Falcon_9_first-stage_boosters\" title=\"List of Falcon 9 first-stage boosters\">Version,<br/>Booster</a><sup class=\"reference\" id=\"cite_ref-booster_11-6\"><a href=\"#cite_note-booster-11\"><span class=\"cite-bracket\">[</span>b<span class=\"cite-bracket\">]</span></a></sup>\n",
      "</th>\n",
      "<th scope=\"col\">Launch<br/>site\n",
      "</th>\n",
      "<th scope=\"col\">Payload<sup class=\"reference\" id=\"cite_ref-Dragon_12-6\"><a href=\"#cite_note-Dragon-12\"><span class=\"cite-bracket\">[</span>c<span class=\"cite-bracket\">]</span></a></sup>\n",
      "</th>\n",
      "<th scope=\"col\">Payload mass\n",
      "</th>\n",
      "<th scope=\"col\">Orbit\n",
      "</th>\n",
      "<th scope=\"col\">Customer\n",
      "</th>\n",
      "<th scope=\"col\">Launch<br/>outcome\n",
      "</th>\n",
      "<th scope=\"col\"><a href=\"/wiki/Falcon_9_first-stage_landing_tests\" title=\"Falcon 9 first-stage landing tests\">Booster<br/>landing</a>\n",
      "</th>\n",
      "<th rowspan=\"2\" scope=\"row\" style=\"text-align:center;\">67\n",
      "</th>\n",
      "<th rowspan=\"2\" scope=\"row\" style=\"text-align:center;\">68\n",
      "</th>\n",
      "<th rowspan=\"2\" scope=\"row\" style=\"text-align:center;\">69\n",
      "</th>\n",
      "<th rowspan=\"4\" scope=\"row\" style=\"text-align:center;\">FH 2\n",
      "</th>\n",
      "<th rowspan=\"2\" scope=\"row\" style=\"text-align:center;\">70\n",
      "</th>\n",
      "<th rowspan=\"2\" scope=\"row\" style=\"text-align:center;\">71\n",
      "</th>\n",
      "<th rowspan=\"2\" scope=\"row\" style=\"text-align:center;\">72\n",
      "</th>\n",
      "<th rowspan=\"4\" scope=\"row\" style=\"text-align:center;\">FH 3\n",
      "</th>\n",
      "<th rowspan=\"2\" scope=\"row\" style=\"text-align:center;\">73\n",
      "</th>\n",
      "<th rowspan=\"2\" scope=\"row\" style=\"text-align:center;\">74\n",
      "</th>\n",
      "<th rowspan=\"2\" scope=\"row\" style=\"text-align:center;\">75\n",
      "</th>\n",
      "<th rowspan=\"2\" scope=\"row\" style=\"text-align:center;\">76\n",
      "</th>\n",
      "<th rowspan=\"2\" scope=\"row\" style=\"text-align:center;\">77\n",
      "</th>\n",
      "<th scope=\"col\">Flight No.\n",
      "</th>\n",
      "<th scope=\"col\">Date and<br/>time (<a href=\"/wiki/Coordinated_Universal_Time\" title=\"Coordinated Universal Time\">UTC</a>)\n",
      "</th>\n",
      "<th scope=\"col\"><a href=\"/wiki/List_of_Falcon_9_first-stage_boosters\" title=\"List of Falcon 9 first-stage boosters\">Version,<br/>Booster</a><sup class=\"reference\" id=\"cite_ref-booster_11-7\"><a href=\"#cite_note-booster-11\"><span class=\"cite-bracket\">[</span>b<span class=\"cite-bracket\">]</span></a></sup>\n",
      "</th>\n",
      "<th scope=\"col\">Launch<br/>site\n",
      "</th>\n",
      "<th scope=\"col\">Payload<sup class=\"reference\" id=\"cite_ref-Dragon_12-7\"><a href=\"#cite_note-Dragon-12\"><span class=\"cite-bracket\">[</span>c<span class=\"cite-bracket\">]</span></a></sup>\n",
      "</th>\n",
      "<th scope=\"col\">Payload mass\n",
      "</th>\n",
      "<th scope=\"col\">Orbit\n",
      "</th>\n",
      "<th scope=\"col\">Customer\n",
      "</th>\n",
      "<th scope=\"col\">Launch<br/>outcome\n",
      "</th>\n",
      "<th scope=\"col\"><a href=\"/wiki/Falcon_9_first-stage_landing_tests\" title=\"Falcon 9 first-stage landing tests\">Booster<br/>landing</a>\n",
      "</th>\n",
      "<th rowspan=\"2\" scope=\"row\" style=\"text-align:center;\">78\n",
      "</th>\n",
      "<th rowspan=\"2\" scope=\"row\" style=\"text-align:center;\">79\n",
      "</th>\n",
      "<th rowspan=\"2\" scope=\"row\" style=\"text-align:center;\">80\n",
      "</th>\n",
      "<th rowspan=\"2\" scope=\"row\" style=\"text-align:center;\">81\n",
      "</th>\n",
      "<th rowspan=\"2\" scope=\"row\" style=\"text-align:center;\">82\n",
      "</th>\n",
      "<th rowspan=\"2\" scope=\"row\" style=\"text-align:center;\">83\n",
      "</th>\n",
      "<th rowspan=\"2\" scope=\"row\" style=\"text-align:center;\">84\n",
      "</th>\n",
      "<th rowspan=\"2\" scope=\"row\" style=\"text-align:center;\">85\n",
      "</th>\n",
      "<th rowspan=\"2\" scope=\"row\" style=\"text-align:center;\">86\n",
      "</th>\n",
      "<th rowspan=\"2\" scope=\"row\" style=\"text-align:center;\">87\n",
      "</th>\n",
      "<th rowspan=\"2\" scope=\"row\" style=\"text-align:center;\">88\n",
      "</th>\n",
      "<th rowspan=\"2\" scope=\"row\" style=\"text-align:center;\">89\n",
      "</th>\n",
      "<th rowspan=\"2\" scope=\"row\" style=\"text-align:center;\">90\n",
      "</th>\n",
      "<th rowspan=\"2\" scope=\"row\" style=\"text-align:center;\">91\n",
      "</th>\n",
      "<th rowspan=\"2\" scope=\"row\" style=\"text-align:center;\">92\n",
      "</th>\n",
      "<th rowspan=\"2\" scope=\"row\" style=\"text-align:center;\">93\n",
      "</th>\n",
      "<th rowspan=\"2\" scope=\"row\" style=\"text-align:center;\">94\n",
      "</th>\n",
      "<th rowspan=\"2\" scope=\"row\" style=\"text-align:center;\">95\n",
      "</th>\n",
      "<th rowspan=\"2\" scope=\"row\" style=\"text-align:center;\">96\n",
      "</th>\n",
      "<th rowspan=\"2\" scope=\"row\" style=\"text-align:center;\">97\n",
      "</th>\n",
      "<th rowspan=\"2\" scope=\"row\" style=\"text-align:center;\">98\n",
      "</th>\n",
      "<th rowspan=\"2\" scope=\"row\" style=\"text-align:center;\">99\n",
      "</th>\n",
      "<th rowspan=\"2\" scope=\"row\" style=\"text-align:center;\">100\n",
      "</th>\n",
      "<th rowspan=\"2\" scope=\"row\" style=\"text-align:center;\">101\n",
      "</th>\n",
      "<th rowspan=\"2\" scope=\"row\" style=\"text-align:center;\">102\n",
      "</th>\n",
      "<th rowspan=\"2\" scope=\"row\" style=\"text-align:center;\">103\n",
      "</th>\n",
      "<th scope=\"col\">Flight\n",
      "<p>No.\n",
      "</p>\n",
      "</th>\n"
     ]
    },
    {
     "ename": "TypeError",
     "evalue": "sequence item 1: expected str instance, Tag found",
     "output_type": "error",
     "traceback": [
      "\u001b[0;31m---------------------------------------------------------------------------\u001b[0m",
      "\u001b[0;31mTypeError\u001b[0m                                 Traceback (most recent call last)",
      "\u001b[0;32m/tmp/ipykernel_78/3854343820.py\u001b[0m in \u001b[0;36m<module>\u001b[0;34m\u001b[0m\n\u001b[1;32m      8\u001b[0m     \u001b[0;31m#print(t.text)\u001b[0m\u001b[0;34m\u001b[0m\u001b[0;34m\u001b[0m\u001b[0;34m\u001b[0m\u001b[0m\n\u001b[1;32m      9\u001b[0m     \u001b[0;31m#tt =t.get_text('', strip=True)\u001b[0m\u001b[0;34m\u001b[0m\u001b[0;34m\u001b[0m\u001b[0;34m\u001b[0m\u001b[0m\n\u001b[0;32m---> 10\u001b[0;31m     \u001b[0mcolumn_names\u001b[0m\u001b[0;34m.\u001b[0m\u001b[0mappend\u001b[0m\u001b[0;34m(\u001b[0m \u001b[0mextract_column_from_header\u001b[0m\u001b[0;34m(\u001b[0m\u001b[0mt\u001b[0m\u001b[0;34m)\u001b[0m\u001b[0;34m)\u001b[0m\u001b[0;34m\u001b[0m\u001b[0;34m\u001b[0m\u001b[0m\n\u001b[0m",
      "\u001b[0;32m/tmp/ipykernel_78/472185022.py\u001b[0m in \u001b[0;36mextract_column_from_header\u001b[0;34m(row)\u001b[0m\n\u001b[1;32m     46\u001b[0m         \u001b[0mrow\u001b[0m\u001b[0;34m.\u001b[0m\u001b[0msup\u001b[0m\u001b[0;34m.\u001b[0m\u001b[0mextract\u001b[0m\u001b[0;34m(\u001b[0m\u001b[0;34m)\u001b[0m\u001b[0;34m\u001b[0m\u001b[0;34m\u001b[0m\u001b[0m\n\u001b[1;32m     47\u001b[0m \u001b[0;34m\u001b[0m\u001b[0m\n\u001b[0;32m---> 48\u001b[0;31m     \u001b[0mcolunm_name\u001b[0m \u001b[0;34m=\u001b[0m \u001b[0;34m' '\u001b[0m\u001b[0;34m.\u001b[0m\u001b[0mjoin\u001b[0m\u001b[0;34m(\u001b[0m\u001b[0mrow\u001b[0m\u001b[0;34m.\u001b[0m\u001b[0mcontents\u001b[0m\u001b[0;34m)\u001b[0m\u001b[0;34m\u001b[0m\u001b[0;34m\u001b[0m\u001b[0m\n\u001b[0m\u001b[1;32m     49\u001b[0m     \u001b[0;31m# Filter the digit and empty names\u001b[0m\u001b[0;34m\u001b[0m\u001b[0;34m\u001b[0m\u001b[0;34m\u001b[0m\u001b[0m\n\u001b[1;32m     50\u001b[0m     \u001b[0;32mif\u001b[0m \u001b[0;32mnot\u001b[0m\u001b[0;34m(\u001b[0m\u001b[0mcolunm_name\u001b[0m\u001b[0;34m.\u001b[0m\u001b[0mstrip\u001b[0m\u001b[0;34m(\u001b[0m\u001b[0;34m)\u001b[0m\u001b[0;34m.\u001b[0m\u001b[0misdigit\u001b[0m\u001b[0;34m(\u001b[0m\u001b[0;34m)\u001b[0m\u001b[0;34m)\u001b[0m\u001b[0;34m:\u001b[0m\u001b[0;34m\u001b[0m\u001b[0;34m\u001b[0m\u001b[0m\n",
      "\u001b[0;31mTypeError\u001b[0m: sequence item 1: expected str instance, Tag found"
     ]
    }
   ],
   "source": [
    "column_names = []\n",
    "\n",
    "# Apply find_all() function with `th` element on first_launch_table\n",
    "# Iterate each th element and apply the provided extract_column_from_header() to get a column name\n",
    "# Append the Non-empty column name (`if name is not None and len(name) > 0`) into a list called column_names\n",
    "th = first_launch_table = soup.find_all('th')\n",
    "for t in th:\n",
    "    #print(t.text)\n",
    "    #tt =t.get_text('', strip=True)\n",
    "    column_names.append( extract_column_from_header(t))\n"
   ]
  },
  {
   "cell_type": "markdown",
   "metadata": {},
   "source": [
    "Check the extracted column names\n"
   ]
  },
  {
   "cell_type": "code",
   "execution_count": 157,
   "metadata": {
    "tags": []
   },
   "outputs": [
    {
     "name": "stdout",
     "output_type": "stream",
     "text": [
      "['Flight No.', 'Date and time ( )', '', 'Launch site', 'Payload', 'Payload mass', 'Orbit', 'Customer', 'Launch outcome', None, 'N/A', 'FH 2', 'FH 3']\n"
     ]
    }
   ],
   "source": [
    "new_list = []\n",
    "\n",
    "for one_student_choice in column_names :\n",
    "    if one_student_choice not in new_list:\n",
    "        new_list.append(one_student_choice)\n",
    "column_names = new_list\n",
    "print(column_names)"
   ]
  },
  {
   "cell_type": "markdown",
   "metadata": {},
   "source": [
    "## TASK 3: Create a data frame by parsing the launch HTML tables\n"
   ]
  },
  {
   "cell_type": "markdown",
   "metadata": {},
   "source": [
    "We will create an empty dictionary with keys from the extracted column names in the previous task. Later, this dictionary will be converted into a Pandas dataframe\n"
   ]
  },
  {
   "cell_type": "markdown",
   "metadata": {},
   "source": [
    "Next, we just need to fill up the `launch_dict` with launch records extracted from table rows.\n"
   ]
  },
  {
   "cell_type": "code",
   "execution_count": 178,
   "metadata": {
    "tags": []
   },
   "outputs": [],
   "source": [
    "launch_dict= dict.fromkeys(column_names)\n",
    "\n",
    "# Remove an irrelvant column\n",
    "del launch_dict['Date and time ( )']\n",
    "\n",
    "# Let's initial the launch_dict with each value to be an empty list\n",
    "launch_dict['Flight No.'] = []\n",
    "launch_dict['Launch site'] = []\n",
    "launch_dict['Payload'] = []\n",
    "launch_dict['Payload mass'] = []\n",
    "launch_dict['Orbit'] = []\n",
    "launch_dict['Customer'] = []\n",
    "launch_dict['Launch outcome'] = []\n",
    "# Added some new columns\n",
    "launch_dict['Version Booster']=[]\n",
    "launch_dict['Booster landing']=[]\n",
    "launch_dict['Date']=[]\n",
    "launch_dict['Time']=[]"
   ]
  },
  {
   "cell_type": "markdown",
   "metadata": {},
   "source": [
    "Usually, HTML tables in Wiki pages are likely to contain unexpected annotations and other types of noises, such as reference links `B0004.1[8]`, missing values `N/A [e]`, inconsistent formatting, etc.\n"
   ]
  },
  {
   "cell_type": "markdown",
   "metadata": {},
   "source": [
    "To simplify the parsing process, we have provided an incomplete code snippet below to help you to fill up the `launch_dict`. Please complete the following code snippet with TODOs or you can choose to write your own logic to parse all launch tables:\n"
   ]
  },
  {
   "cell_type": "code",
   "execution_count": 208,
   "metadata": {
    "tags": []
   },
   "outputs": [
    {
     "name": "stdout",
     "output_type": "stream",
     "text": [
      "0\n",
      "0\n",
      "525 kg\n",
      "4,700 kg\n",
      "4,877 kg\n",
      "500 kg\n",
      "3,170 kg\n",
      "3,325 kg\n",
      "2,296 kg\n",
      "1,316 kg\n",
      "4,535 kg\n",
      "4,428 kg\n",
      "2,216 kg\n",
      "2,395 kg\n",
      "570 kg\n",
      "4,159 kg\n",
      "1,898 kg\n",
      "4,707 kg\n",
      "1,952 kg\n",
      "2,034 kg\n",
      "553 kg\n",
      "5,271 kg\n",
      "3,136 kg\n",
      "4,696 kg\n",
      "3,100 kg\n",
      "3,600 kg\n",
      "2,257 kg\n",
      "4,600 kg\n",
      "9,600 kg\n",
      "2,490 kg\n",
      "5,600 kg\n",
      "5,300 kg\n",
      "C\n",
      "6,070 kg\n",
      "2,708 kg\n",
      "3,669 kg\n",
      "9,600 kg\n",
      "6,761 kg\n",
      "3,310 kg\n",
      "475 kg\n",
      "4,990 kg\n",
      "9,600 kg\n",
      "5,200 kg\n",
      "3,500 kg\n",
      "2,205 kg\n",
      "9,600 kg\n",
      "C\n",
      "4,230 kg\n",
      "2,150 kg\n",
      "6,092 kg\n",
      "9,600 kg\n",
      "2,647 kg\n",
      "362 kg\n",
      "3,600 kg\n",
      "6,460 kg\n",
      "5,384 kg\n",
      "2,697 kg\n",
      "7,075 kg\n",
      "9,600 kg\n",
      "5,800 kg\n",
      "7,060 kg\n",
      "3,000 kg\n",
      "5,300 kg\n",
      "~4,000 kg\n",
      "2,500 kg\n",
      "4,400 kg\n",
      "9,600 kg\n",
      "4,850 kg\n",
      "12,055 kg\n",
      "2,495 kg\n",
      "13,620 kg\n",
      "4,200 kg\n",
      "2,268 kg\n",
      "6,500 kg\n",
      "15,600 kg\n",
      "2,617 kg\n",
      "6,956 kg\n",
      "15,600 kg\n",
      "12,050 kg\n",
      "15,600 kg\n",
      "15,600 kg\n",
      "1,977 kg\n",
      "15,600 kg\n",
      "15,600 kg\n",
      "12,530 kg\n",
      "15,600 kg\n",
      "15,410 kg\n",
      "4,311 kg\n",
      "5,000–6,000 kg\n",
      "14,932 kg\n",
      "~15,440 kg\n",
      "3,130 kg\n",
      "15,600 kg\n",
      "15,600 kg\n",
      "15,600 kg\n",
      "15,600 kg\n",
      "4,311 kg\n",
      "~12,500 kg\n",
      "1,192 kg\n",
      "15,600 kg\n",
      "2,972 kg\n",
      "7,000 kg\n",
      "C\n",
      "3,500 kg\n",
      "15,600 kg\n",
      "~5,000 kg\n",
      "15,600 kg\n",
      "15,600 kg\n",
      "15,600 kg\n",
      "15,600 kg\n",
      "15,600 kg\n",
      "15,600 kg\n",
      "15,600 kg\n",
      "~13,000 kg\n",
      "15,600 kg\n",
      "15,600 kg\n",
      "15,600 kg\n",
      "~14,000 kg\n",
      "15,600 kg\n",
      "3,328 kg\n",
      "7,000 kg\n"
     ]
    }
   ],
   "source": [
    "extracted_row = 0\n",
    "#Extract each table \n",
    "for table_number,table in enumerate(soup.find_all('table',\"wikitable plainrowheaders collapsible\")):\n",
    "   # get table row \n",
    "    for rows in table.find_all(\"tr\"):\n",
    "        #check to see if first table heading is as number corresponding to launch a number \n",
    "        if rows.th:\n",
    "            if rows.th.string:\n",
    "                flight_number=rows.th.string.strip()\n",
    "                flag=flight_number.isdigit()\n",
    "        else:\n",
    "            flag=False\n",
    "        #get table element \n",
    "        row=rows.find_all('td')\n",
    "        #if it is number save cells in a dictonary \n",
    "        if flag:\n",
    "            extracted_row += 1\n",
    "            # Flight Number value\n",
    "            # TODO: Append the flight_number into launch_dict with key `Flight No.`\n",
    "            launch_dict['Flight No.'].append(flight_number)\n",
    "            #print(flight_number)\n",
    "            datatimelist=date_time(row[0])\n",
    "\n",
    "            # Date value\n",
    "            # TODO: Append the date into launch_dict with key `Date`\n",
    "            date = datatimelist[0].strip(',')\n",
    "            launch_dict['Date'].join(date)\n",
    "            #print(date)\n",
    "\n",
    "            # Time value\n",
    "            # TODO: Append the time into launch_dict with key `Time`\n",
    "            time = datatimelist[1]\n",
    "            launch_dict['Time'].join(time)\n",
    "            #print(time)\n",
    "            # Booster version\n",
    "            # TODO: Append the bv into launch_dict with key `Version Booster`\n",
    "            bv=booster_version(row[1])\n",
    "            if not(bv):\n",
    "                bv=row[1].a.string\n",
    "            launch_dict['Version Booster'].append(bv)\n",
    "            #print(bv)\n",
    "\n",
    "\n",
    "            # Launch Site\n",
    "            # TODO: Append the bv into launch_dict with key `Launch Site`\n",
    "            launch_site = row[2].a.string\n",
    "            launch_dict['Launch site'].join(launch_site)\n",
    "            #print(launch_site)\n",
    "\n",
    "            # Payload\n",
    "            # TODO: Append the payload into launch_dict with key `Payload`\n",
    "            payload = row[3].a.string\n",
    "            launch_dict['Payload'].join(payload)\n",
    "            #print(payload)\n",
    "\n",
    "            # Payload Mass\n",
    "            # TODO: Append the payload_mass into launch_dict with key `Payload mass`\n",
    "            payload_mass = get_mass(row[4])\n",
    "            #launch_dict['Payload mass'].append(payload_mass)\n",
    "            print(payload_mass)\n",
    "\n",
    "            # Orbit\n",
    "            # TODO: Append the orbit into launch_dict with key `Orbit`\n",
    "            orbit = row[5].a.string\n",
    "            launch_dict['Orbit'].join(orbit)\n",
    "            #print(orbit)\n",
    "\n",
    "            # Customer\n",
    "            # TODO: Append the customer into launch_dict with key `Customer`\n",
    "            if (row[6].a is not None):\n",
    "                customer=row[6].a.string\n",
    "            else:\n",
    "                customer=row[6].string\n",
    "            #print(customer)\n",
    "            #launch_dict['Customer'].join(customer)\n",
    "\n",
    "            # Launch outcome\n",
    "            # TODO: Append the launch_outcome into launch_dict with key `Launch outcome`\n",
    "            launch_outcome = list(row[7].strings)[0]\n",
    "            launch_dict['Launch outcome'].join(launch_outcome)\n",
    "            #print(launch_outcome)\n",
    "\n",
    "            # Booster landing\n",
    "            # TODO: Append the launch_outcome into launch_dict with key `Booster landing`\n",
    "            booster_landing = landing_status(row[8])\n",
    "            launch_dict['Booster landing'].join(booster_landing)\n",
    "            #print(booster_landing)"
   ]
  },
  {
   "cell_type": "code",
   "execution_count": 211,
   "metadata": {
    "tags": []
   },
   "outputs": [
    {
     "name": "stdout",
     "output_type": "stream",
     "text": [
      "{'Flight No.': ['1', '2', '3', '4', '5', '6', '7', '8', '9', '10', '11', '12', '13', '14', '15', '16', '17', '18', '19', '20', '21', '22', '23', '24', '25', '26', '27', '28', '29', '30', '31', '32', '33', '34', '35', '36', '37', '38', '39', '40', '41', '42', '43', '44', '45', '46', '47', '48', '49', '50', '51', '52', '53', '54', '55', '56', '57', '58', '59', '60', '61', '62', '63', '64', '65', '66', '67', '68', '69', '70', '71', '72', '73', '74', '75', '76', '77', '78', '79', '80', '81', '82', '83', '84', '85', '86', '87', '88', '89', '90', '91', '92', '93', '94', '95', '96', '97', '98', '99', '100', '101', '102', '103', '104', '105', '106', '107', '108', '109', '110', '111', '112', '113', '114', '115', '116', '117', '118', '119', '120', '121', '1', '2', '3', '4', '5', '6', '7', '8', '9', '10', '11', '12', '13', '14', '15', '16', '17', '18', '19', '20', '21', '22', '23', '24', '25', '26', '27', '28', '29', '30', '31', '32', '33', '34', '35', '36', '37', '38', '39', '40', '41', '42', '43', '44', '45', '46', '47', '48', '49', '50', '51', '52', '53', '54', '55', '56', '57', '58', '59', '60', '61', '62', '63', '64', '65', '66', '67', '68', '69', '70', '71', '72', '73', '74', '75', '76', '77', '78', '79', '80', '81', '82', '83', '84', '85', '86', '87', '88', '89', '90', '91', '92', '93', '94', '95', '96', '97', '98', '99', '100', '101', '102', '103', '104', '105', '106', '107', '108', '109', '110', '111', '112', '113', '114', '115', '116', '117', '118', '119', '120', '121', '1', '1', '1', '1', '1', '1', '1', '1', '1', '1', '1', '2', '3', '4', '5', '6', '7', '8', '9', '10', '11', '12', '13', '14', '15', '16', '17', '18', '1', '1', '2', '3', '4', '5', '6', '7', '8', '9', '10', '11', '12', '13', '14', '15', '16', '17', '18', '1', '2', '3', '4', '5', '6', '7', '8', '9', '10', '11', '12', '13', '14', '15', '16', '17', '18', '1', '1', '2', '3', '4', '5', '6', '7', '8', '9', '10', '11', '12', '13', '14', '15', '16', '17', '18', '1', '2', '3', '4', '5', '6', '7', '8', '9', '10', '11', '12', '13', '14', '15', '16', '17', '18', '1', '2', '3', '4', '5', '6', '7', '8', '9', '10', '11', '12', '13', '14', '15', '16', '17', '18', '19', '20', '21', '22', '23', '24', '25', '26', '27', '28', '29', '30', '31', '32', '33', '34', '35', '36', '37', '38', '39', '40', '41', '42', '43', '44', '45', '46', '47', '48', '49', '50', '51', '52', '53', '54', '55', '56', '57', '58', '59', '60', '61', '62', '63', '64', '65', '66', '67', '68', '69', '70', '71', '72', '73', '74', '75', '76', '77', '78', '79', '80', '81', '82', '83', '84', '85', '86', '87', '88', '89', '90', '91', '92', '93', '94', '95', '96', '97', '98', '99', '100', '101', '102', '103', '104', '105', '106', '107', '108', '109', '110', '111', '112', '113', '114', '115', '116', '117', '118', '119', '120', '121', '1', '2', '3', '4', '5', '6', '7', '8', '9', '10', '11', '12', '13', '14', '15', '16', '17', '18', '19', '20', '21', '22', '23', '24', '25', '26', '27', '28', '29', '30', '31', '32', '33', '34', '35', '36', '37', '38', '39', '40', '41', '42', '43', '44', '45', '46', '47', '48', '49', '50', '51', '52', '53', '54', '55', '56', '57', '58', '59', '60', '61', '62', '63', '64', '65', '66', '67', '68', '69', '70', '71', '72', '73', '74', '75', '76', '77', '78', '79', '80', '81', '82', '83', '84', '85', '86', '87', '88', '89', '90', '91', '92', '93', '94', '95', '96', '97', '98', '99', '100', '101', '102', '103', '104', '105', '106', '107', '108', '109', '110', '111', '112', '113', '114', '115', '116', '117', '118', '119', '120', '121', '1', '2', '3', '4', '5', '6', '7', '8', '9', '10', '11', '12', '13', '14', '15', '16', '17', '18', '19', '20', '21', '22', '23', '24', '25', '26', '27', '28', '29', '30', '31', '32', '33', '34', '35', '36', '37', '38', '39', '40', '41', '42', '43', '44', '45', '46', '47', '48', '49', '50', '51', '52', '53', '54', '55', '56', '57', '58', '59', '60', '61', '62', '63', '64', '65', '66', '67', '68', '69', '70', '71', '72', '73', '74', '75', '76', '77', '78', '79', '80', '81', '82', '83', '84', '85', '86', '87', '88', '89', '90', '91', '92', '93', '94', '95', '96', '97', '98', '99', '100', '101', '102', '103', '104', '105', '106', '107', '108', '109', '110', '111', '112', '113', '114', '115', '116', '117', '118', '119', '120', '121', '1', '2', '3', '4', '5', '6', '7', '8', '9', '10', '11', '12', '13', '14', '15', '16', '17', '18', '19', '20', '21', '22', '23', '24', '25', '26', '27', '28', '29', '30', '31', '32', '33', '34', '35', '36', '37', '38', '39', '40', '41', '42', '43', '44', '45', '46', '47', '48', '49', '50', '51', '52', '53', '54', '55', '56', '57', '58', '59', '60', '61', '62', '63', '64', '65', '66', '67', '68', '69', '70', '71', '72', '73', '74', '75', '76', '77', '78', '79', '80', '81', '82', '83', '84', '85', '86', '87', '88', '89', '90', '91', '92', '93', '94', '95', '96', '97', '98', '99', '100', '101', '102', '103', '104', '105', '106', '107', '108', '109', '110', '111', '112', '113', '114', '115', '116', '117', '118', '119', '120', '121'], '': None, 'Launch site': 'CCSFS', 'Payload': 'SXM-8', 'Payload mass': '7,000 kg', 'Orbit': 'GTO', 'Customer': 'GTO', 'Launch outcome': 'Success\\n', None: None, 'N/A': None, 'FH 2': None, 'FH 3': None, 'Version Booster': ['F9 v1.07B0003.18', 'F9 v1.07B0003.18', 'F9 v1.07B0003.18', 'F9 v1.07B0004.18', 'F9 v1.07B0005.18', 'F9 v1.07B0006.18', 'F9 v1.07B0007.18', 'F9 v1.17B10038', 'F9 v1.1', 'F9 v1.1', 'F9 v1.1', 'F9 v1.1', 'F9 v1.1', 'F9 v1.1[', 'F9 v1.1[', 'F9 v1.1[', 'F9 v1.1[', 'F9 v1.1[', 'F9 v1.1[', 'F9 v1.1[', 'F9 v1.07B0003.18', 'F9 v1.07B0003.18', 'F9 v1.07B0004.18', 'F9 v1.07B0005.18', 'F9 v1.07B0006.18', 'F9 v1.07B0007.18', 'F9 v1.17B10038', 'F9 v1.1', 'F9 v1.1', 'F9 v1.1', 'F9 v1.1', 'F9 v1.1', 'F9 v1.1[', 'F9 v1.1[', 'F9 v1.1[', 'F9 v1.1[', 'F9 v1.1[', 'F9 v1.1[', 'F9 v1.1[', 'F9 v1.07B0003.18', 'F9 v1.07B0004.18', 'F9 v1.07B0005.18', 'F9 v1.07B0006.18', 'F9 v1.07B0007.18', 'F9 v1.17B10038', 'F9 v1.1', 'F9 v1.1', 'F9 v1.1', 'F9 v1.1', 'F9 v1.1', 'F9 v1.1[', 'F9 v1.1[', 'F9 v1.1[', 'F9 v1.1[', 'F9 v1.1[', 'F9 v1.1[', 'F9 v1.1[', 'F9 v1.07B0003.18', 'F9 v1.07B0003.18', 'F9 v1.07B0004.18', 'F9 v1.07B0005.18', 'F9 v1.07B0006.18', 'F9 v1.07B0007.18', 'F9 v1.17B10038', 'F9 v1.1', 'F9 v1.1', 'F9 v1.1', 'F9 v1.1', 'F9 v1.1', 'F9 v1.1[', 'F9 v1.1[', 'F9 v1.1[', 'F9 v1.1[', 'F9 v1.1[', 'F9 v1.1[', 'F9 v1.1[', 'F9 v1.07B0003.18', 'F9 v1.07B0004.18', 'F9 v1.07B0005.18', 'F9 v1.07B0006.18', 'F9 v1.07B0007.18', 'F9 v1.17B10038', 'F9 v1.1', 'F9 v1.1', 'F9 v1.1', 'F9 v1.1', 'F9 v1.1', 'F9 v1.1[', 'F9 v1.1[', 'F9 v1.1[', 'F9 v1.1[', 'F9 v1.1[', 'F9 v1.1[', 'F9 v1.1[', 'F9 v1.07B0003.18', 'F9 v1.07B0004.18', 'F9 v1.07B0005.18', 'F9 v1.07B0006.18', 'F9 v1.07B0007.18', 'F9 v1.17B10038', 'F9 v1.1', 'F9 v1.1', 'F9 v1.1', 'F9 v1.1', 'F9 v1.1', 'F9 v1.1[', 'F9 v1.1[', 'F9 v1.1[', 'F9 v1.1[', 'F9 v1.1[', 'F9 v1.1[', 'F9 v1.1[', 'F9 v1.1[', 'F9 FT[', 'F9 v1.1[', 'F9 FT[', 'F9 FT[', 'F9 FT[', 'F9 FT[', 'F9 FT[', 'F9 FT[', 'F9 FT[', 'F9 FT[', 'F9 FT[', 'F9 FT[', 'F9 FT♺[', 'F9 FT[', 'F9 FT[', 'F9 FT[', 'F9 FTB1029.2195', 'F9 FT[', 'F9 FT[', 'F9 B4[', 'F9 FT[', 'F9 B4[', 'F9 B4[', 'F9 FTB1031.2220', 'F9 B4[', 'F9 FTB1035.2227', 'F9 FTB1036.2227', 'F9 B4[', 'F9 FTB1032.2245', 'F9 FTB1038.2268', 'F9 B4[', 'F9 B4B1041.2268', 'F9 B4B1039.2292', 'F9 B4[', 'F9 B5311B1046.1268', 'F9 B4B1043.2322', 'F9 B4B1040.2268', 'F9 B4B1045.2336', 'F9 B5', 'F9 B5349B1048[', 'F9 B5B1046.2354', 'F9 B5[', 'F9 B5B1048.2364', 'F9 B5B1047.2268', 'F9 B5B1046.3268', 'F9 B5[', 'F9 B5[', 'F9 B5B1049.2397', 'F9 B5B1048.3399', 'F9 B5[]413', 'F9 B5[', 'F9 B5B1049.3434', 'F9 B5B1051.2420', 'F9 B5B1056.2465', 'F9 B5B1047.3472', 'F9 B5', 'F9 B5[', 'F9 B5B1056.3482', 'F9 B5', 'F9 B5', 'F9 B5', 'F9 B5', 'F9 B5', 'F9 B5', 'F9 B5', 'F9 B5[', 'F9 B5', 'F9 B5', 'F9 B5', 'F9 B5B1058.2544', 'F9 B5', 'F9 B5B1049.6544', 'F9 B5', 'F9 B5B1060.2563', 'F9 B5B1058.3565', 'F9 B5B1051.6568', 'F9 B5', 'F9 B5', 'F9 B5[', 'F9 B5', 'F9 B5 ♺[', 'F9 B5 ♺[', 'F9 B5 ♺', 'F9 B5 ♺', 'F9 B5', 'F9 B5B1051.8609', 'F9 B5B1058.5613', 'F9 B5 ♺[', 'F9 B5 ♺', 'F9 B5 ♺[', 'F9 B5 ♺[', 'F9 B5 ♺', 'F9 B5B1060.6643', 'F9 B5 ♺', 'F9 B5B1061.2647', 'F9 B5B1060.7652', 'F9 B5B1049.9655', 'F9 B5B1051.10657', 'F9 B5B1058.8660', 'F9 B5B1063.2665', 'F9 B5B1067.1668', 'F9 B5', 'F9 v1.07B0003.18', 'F9 v1.07B0004.18', 'F9 v1.07B0005.18', 'F9 v1.07B0006.18', 'F9 v1.07B0007.18', 'F9 v1.17B10038', 'F9 v1.1', 'F9 v1.1', 'F9 v1.1', 'F9 v1.1', 'F9 v1.1', 'F9 v1.1[', 'F9 v1.1[', 'F9 v1.1[', 'F9 v1.1[', 'F9 v1.1[', 'F9 v1.1[', 'F9 v1.1[', 'F9 v1.1[', 'F9 FT[', 'F9 v1.1[', 'F9 FT[', 'F9 FT[', 'F9 FT[', 'F9 FT[', 'F9 FT[', 'F9 FT[', 'F9 FT[', 'F9 FT[', 'F9 FT[', 'F9 FT[', 'F9 FT♺[', 'F9 FT[', 'F9 FT[', 'F9 FT[', 'F9 FTB1029.2195', 'F9 FT[', 'F9 FT[', 'F9 B4[', 'F9 FT[', 'F9 B4[', 'F9 B4[', 'F9 FTB1031.2220', 'F9 B4[', 'F9 FTB1035.2227', 'F9 FTB1036.2227', 'F9 B4[', 'F9 FTB1032.2245', 'F9 FTB1038.2268', 'F9 B4[', 'F9 B4B1041.2268', 'F9 B4B1039.2292', 'F9 B4[', 'F9 B5311B1046.1268', 'F9 B4B1043.2322', 'F9 B4B1040.2268', 'F9 B4B1045.2336', 'F9 B5', 'F9 B5349B1048[', 'F9 B5B1046.2354', 'F9 B5[', 'F9 B5B1048.2364', 'F9 B5B1047.2268', 'F9 B5B1046.3268', 'F9 B5[', 'F9 B5[', 'F9 B5B1049.2397', 'F9 B5B1048.3399', 'F9 B5[]413', 'F9 B5[', 'F9 B5B1049.3434', 'F9 B5B1051.2420', 'F9 B5B1056.2465', 'F9 B5B1047.3472', 'F9 B5', 'F9 B5[', 'F9 B5B1056.3482', 'F9 B5', 'F9 B5', 'F9 B5', 'F9 B5', 'F9 B5', 'F9 B5', 'F9 B5', 'F9 B5[', 'F9 B5', 'F9 B5', 'F9 B5', 'F9 B5B1058.2544', 'F9 B5', 'F9 B5B1049.6544', 'F9 B5', 'F9 B5B1060.2563', 'F9 B5B1058.3565', 'F9 B5B1051.6568', 'F9 B5', 'F9 B5', 'F9 B5[', 'F9 B5', 'F9 B5 ♺[', 'F9 B5 ♺[', 'F9 B5 ♺', 'F9 B5 ♺', 'F9 B5', 'F9 B5B1051.8609', 'F9 B5B1058.5613', 'F9 B5 ♺[', 'F9 B5 ♺', 'F9 B5 ♺[', 'F9 B5 ♺[', 'F9 B5 ♺', 'F9 B5B1060.6643', 'F9 B5 ♺', 'F9 B5B1061.2647', 'F9 B5B1060.7652', 'F9 B5B1049.9655', 'F9 B5B1051.10657', 'F9 B5B1058.8660', 'F9 B5B1063.2665', 'F9 B5B1067.1668', 'F9 B5', 'F9 v1.07B0003.18', 'F9 v1.07B0004.18', 'F9 v1.07B0005.18', 'F9 v1.07B0006.18', 'F9 v1.07B0007.18', 'F9 v1.17B10038', 'F9 v1.1', 'F9 v1.1', 'F9 v1.1', 'F9 v1.1', 'F9 v1.1', 'F9 v1.1[', 'F9 v1.1[', 'F9 v1.1[', 'F9 v1.1[', 'F9 v1.1[', 'F9 v1.1[', 'F9 v1.1[', 'F9 v1.1[', 'F9 FT[', 'F9 v1.1[', 'F9 FT[', 'F9 FT[', 'F9 FT[', 'F9 FT[', 'F9 FT[', 'F9 FT[', 'F9 FT[', 'F9 FT[', 'F9 FT[', 'F9 FT[', 'F9 FT♺[', 'F9 FT[', 'F9 FT[', 'F9 FT[', 'F9 FTB1029.2195', 'F9 FT[', 'F9 FT[', 'F9 B4[', 'F9 FT[', 'F9 B4[', 'F9 B4[', 'F9 FTB1031.2220', 'F9 B4[', 'F9 FTB1035.2227', 'F9 FTB1036.2227', 'F9 B4[', 'F9 FTB1032.2245', 'F9 FTB1038.2268', 'F9 B4[', 'F9 B4B1041.2268', 'F9 B4B1039.2292', 'F9 B4[', 'F9 B5311B1046.1268', 'F9 B4B1043.2322', 'F9 B4B1040.2268', 'F9 B4B1045.2336', 'F9 B5', 'F9 B5349B1048[', 'F9 B5B1046.2354', 'F9 B5[', 'F9 B5B1048.2364', 'F9 B5B1047.2268', 'F9 B5B1046.3268', 'F9 B5[', 'F9 B5[', 'F9 B5B1049.2397', 'F9 B5B1048.3399', 'F9 B5[]413', 'F9 B5[', 'F9 B5B1049.3434', 'F9 B5B1051.2420', 'F9 B5B1056.2465', 'F9 B5B1047.3472', 'F9 B5', 'F9 B5[', 'F9 B5B1056.3482', 'F9 B5', 'F9 B5', 'F9 B5', 'F9 B5', 'F9 B5', 'F9 B5', 'F9 B5', 'F9 B5[', 'F9 B5', 'F9 B5', 'F9 B5', 'F9 B5B1058.2544', 'F9 B5', 'F9 B5B1049.6544', 'F9 B5', 'F9 B5B1060.2563', 'F9 B5B1058.3565', 'F9 B5B1051.6568', 'F9 B5', 'F9 B5', 'F9 B5[', 'F9 B5', 'F9 B5 ♺[', 'F9 B5 ♺[', 'F9 B5 ♺', 'F9 B5 ♺', 'F9 B5', 'F9 B5B1051.8609', 'F9 B5B1058.5613', 'F9 B5 ♺[', 'F9 B5 ♺', 'F9 B5 ♺[', 'F9 B5 ♺[', 'F9 B5 ♺', 'F9 B5B1060.6643', 'F9 B5 ♺', 'F9 B5B1061.2647', 'F9 B5B1060.7652', 'F9 B5B1049.9655', 'F9 B5B1051.10657', 'F9 B5B1058.8660', 'F9 B5B1063.2665', 'F9 B5B1067.1668', 'F9 B5', 'F9 v1.07B0003.18', 'F9 v1.07B0004.18', 'F9 v1.07B0005.18', 'F9 v1.07B0006.18', 'F9 v1.07B0007.18', 'F9 v1.17B10038', 'F9 v1.1', 'F9 v1.1', 'F9 v1.1', 'F9 v1.1', 'F9 v1.1', 'F9 v1.1[', 'F9 v1.1[', 'F9 v1.1[', 'F9 v1.1[', 'F9 v1.1[', 'F9 v1.1[', 'F9 v1.1[', 'F9 v1.1[', 'F9 FT[', 'F9 v1.1[', 'F9 FT[', 'F9 FT[', 'F9 FT[', 'F9 FT[', 'F9 FT[', 'F9 FT[', 'F9 FT[', 'F9 FT[', 'F9 FT[', 'F9 FT[', 'F9 FT♺[', 'F9 FT[', 'F9 FT[', 'F9 FT[', 'F9 FTB1029.2195', 'F9 FT[', 'F9 FT[', 'F9 B4[', 'F9 FT[', 'F9 B4[', 'F9 B4[', 'F9 FTB1031.2220', 'F9 B4[', 'F9 FTB1035.2227', 'F9 FTB1036.2227', 'F9 B4[', 'F9 FTB1032.2245', 'F9 FTB1038.2268', 'F9 B4[', 'F9 B4B1041.2268', 'F9 B4B1039.2292', 'F9 B4[', 'F9 B5311B1046.1268', 'F9 B4B1043.2322', 'F9 B4B1040.2268', 'F9 B4B1045.2336', 'F9 B5', 'F9 B5349B1048[', 'F9 B5B1046.2354', 'F9 B5[', 'F9 B5B1048.2364', 'F9 B5B1047.2268', 'F9 B5B1046.3268', 'F9 B5[', 'F9 B5[', 'F9 B5B1049.2397', 'F9 B5B1048.3399', 'F9 B5[]413', 'F9 B5[', 'F9 B5B1049.3434', 'F9 B5B1051.2420', 'F9 B5B1056.2465', 'F9 B5B1047.3472', 'F9 B5', 'F9 B5[', 'F9 B5B1056.3482', 'F9 B5', 'F9 B5', 'F9 B5', 'F9 B5', 'F9 B5', 'F9 B5', 'F9 B5', 'F9 B5[', 'F9 B5', 'F9 B5', 'F9 B5', 'F9 B5B1058.2544', 'F9 B5', 'F9 B5B1049.6544', 'F9 B5', 'F9 B5B1060.2563', 'F9 B5B1058.3565', 'F9 B5B1051.6568', 'F9 B5', 'F9 B5', 'F9 B5[', 'F9 B5', 'F9 B5 ♺[', 'F9 B5 ♺[', 'F9 B5 ♺', 'F9 B5 ♺', 'F9 B5', 'F9 B5B1051.8609', 'F9 B5B1058.5613', 'F9 B5 ♺[', 'F9 B5 ♺', 'F9 B5 ♺[', 'F9 B5 ♺[', 'F9 B5 ♺', 'F9 B5B1060.6643', 'F9 B5 ♺', 'F9 B5B1061.2647', 'F9 B5B1060.7652', 'F9 B5B1049.9655', 'F9 B5B1051.10657', 'F9 B5B1058.8660', 'F9 B5B1063.2665', 'F9 B5B1067.1668', 'F9 B5'], 'Booster landing': 'Success', 'Date': '6 June 2021', 'Time': '04:26'}\n"
     ]
    }
   ],
   "source": [
    "print(launch_dict)"
   ]
  },
  {
   "cell_type": "markdown",
   "metadata": {},
   "source": [
    "After you have fill in the parsed launch record values into `launch_dict`, you can create a dataframe from it.\n"
   ]
  },
  {
   "cell_type": "code",
   "execution_count": 215,
   "metadata": {
    "tags": []
   },
   "outputs": [],
   "source": [
    "df= pd.DataFrame({ key:pd.Series(value,dtype='object') for key, value in launch_dict.items() })"
   ]
  },
  {
   "cell_type": "markdown",
   "metadata": {},
   "source": [
    "We can now export it to a <b>CSV</b> for the next section, but to make the answers consistent and in case you have difficulties finishing this lab. \n",
    "\n",
    "Following labs will be using a provided dataset to make each lab independent. \n"
   ]
  },
  {
   "cell_type": "markdown",
   "metadata": {},
   "source": [
    "<code>launch_dict.to_csv('spacex_web_scraped.csv', index=False)</code>\n"
   ]
  },
  {
   "cell_type": "code",
   "execution_count": 217,
   "metadata": {
    "tags": []
   },
   "outputs": [],
   "source": [
    "df.to_csv('spacex_web_scraped.csv', index=False)"
   ]
  },
  {
   "cell_type": "markdown",
   "metadata": {},
   "source": [
    "## Authors\n"
   ]
  },
  {
   "cell_type": "markdown",
   "metadata": {},
   "source": [
    "<a href=\"https://www.linkedin.com/in/yan-luo-96288783/\">Yan Luo</a>\n"
   ]
  },
  {
   "cell_type": "markdown",
   "metadata": {},
   "source": [
    "<a href=\"https://www.linkedin.com/in/nayefaboutayoun/\">Nayef Abou Tayoun</a>\n"
   ]
  },
  {
   "cell_type": "markdown",
   "metadata": {},
   "source": [
    "<!--\n",
    "## Change Log\n",
    "-->\n"
   ]
  },
  {
   "cell_type": "markdown",
   "metadata": {},
   "source": [
    "<!--\n",
    "| Date (YYYY-MM-DD) | Version | Changed By | Change Description      |\n",
    "| ----------------- | ------- | ---------- | ----------------------- |\n",
    "| 2021-06-09        | 1.0     | Yan Luo    | Tasks updates           |\n",
    "| 2020-11-10        | 1.0     | Nayef      | Created the initial version |\n",
    "-->\n"
   ]
  },
  {
   "cell_type": "markdown",
   "metadata": {},
   "source": [
    "Copyright © 2021 IBM Corporation. All rights reserved.\n"
   ]
  }
 ],
 "metadata": {
  "kernelspec": {
   "display_name": "Python",
   "language": "python",
   "name": "conda-env-python-py"
  },
  "language_info": {
   "codemirror_mode": {
    "name": "ipython",
    "version": 3
   },
   "file_extension": ".py",
   "mimetype": "text/x-python",
   "name": "python",
   "nbconvert_exporter": "python",
   "pygments_lexer": "ipython3",
   "version": "3.7.12"
  },
  "prev_pub_hash": "64f1b0aac408997185c47caba18730e0028b75e7934a0e5bf0ae73c5cb7ba677"
 },
 "nbformat": 4,
 "nbformat_minor": 4
}
